{
 "cells": [
  {
   "cell_type": "markdown",
   "metadata": {},
   "source": [
    "#LIB INSTALATION\n",
    "!pip install yfinance\n",
    "!pip install crewai\n",
    "!pip install 'crewai[tools]'\n",
    "!pip install langchain\n",
    "!pip install langchain-openai\n",
    "!pip install langchain-community\n",
    "!pip install python-dotenv"
   ]
  },
  {
   "cell_type": "code",
   "execution_count": 59,
   "metadata": {},
   "outputs": [],
   "source": [
    "import json\n",
    "import os\n",
    "from datetime import datetime\n",
    "from crewai import Agent, Task, Crew, Process\n",
    "from langchain.tools import Tool\n",
    "from langchain_openai import ChatOpenAI\n",
    "from langchain_community.tools import DuckDuckGoSearchResults\n",
    "from dotenv import load_dotenv\n",
    "\n",
    "import yfinance as yf"
   ]
  },
  {
   "cell_type": "code",
   "execution_count": 60,
   "metadata": {},
   "outputs": [],
   "source": [
    "#Yahoo Finance Tool\n",
    "def fetch_stock_price(ticket):\n",
    "  stock = yf.download(ticket, start=\"2023-08-08\", end=\"2024-08-08\")\n",
    "  return stock\n",
    "\n",
    "yahoo_finance_tool = Tool(\n",
    "  name = \"Yahoo Finance Tool\",\n",
    "  description = \"Fetch Stock prices for {ticket} from the last year about a specific stock from API\",\n",
    "  func = lambda ticket: fetch_stock_price(ticket)\n",
    ")\n",
    "\n",
    "#DuckDuck Go Tool\n",
    "search_tool = DuckDuckGoSearchResults(backend='news', num_results=10)"
   ]
  },
  {
   "cell_type": "code",
   "execution_count": 61,
   "metadata": {},
   "outputs": [],
   "source": [
    "# IMPORT OPENAI LLM - GPT\n",
    "load_dotenv()\n",
    "os.environ['OPENAI_API_KEY'] == os.getenv('OPENAI_API_KEY')\n",
    "llm = ChatOpenAI(model=\"gpt-3.5-turbo\")"
   ]
  },
  {
   "cell_type": "code",
   "execution_count": 62,
   "metadata": {},
   "outputs": [],
   "source": [
    "stockPriceAnalyst = Agent(\n",
    "  role = \"Senior stock price analyst\",\n",
    "  goal = \"Find the {ticket} stock price and analyze trends\",\n",
    "  backstory = \"You're highly exprienced in analyze the price of an specific stock and make predictions about the future price and get some external factors and historical logs study if is worth invest in the moment\",\n",
    "  verbose = True,\n",
    "  llm = llm,\n",
    "  max_iter = 5,\n",
    "  memory = True,\n",
    "  allow_delegation = False,\n",
    "  tools = [yahoo_finance_tool]\n",
    ")\n",
    "\n",
    "newsAnalyst = Agent(\n",
    "  role = \"Stock news analyst\",\n",
    "  goal = \"Create a short summary of the market news related to the stock {ticket} company. Specify the current trend - up, down or sideways with the news context. For each requested stock specify a number between 0 and 100 where 0 is bad and 100 is good\",\n",
    "  backstory = \"You're a highly experienced in analyzing the market trends and news tracking assets for more then 10 years, you're also master level analytics in the tradictional markets and have deep understanding of human psychology. You understand news, theris titles and information but you look at those with a health dose of skepticism. You consider also the source of the news and check if is fake\",\n",
    "  verbose = True,\n",
    "  llm = llm,\n",
    "  max_iter = 10,\n",
    "  memory = True,\n",
    "  allow_delegation = False,\n",
    "  tools = [search_tool]\n",
    ")\n",
    "\n",
    "stockAnalystWritter = Agent(\n",
    "  role = \"Senior Stock Analyst Writer\",\n",
    "  goal = \"Analyze the trends price and news and write an insightfull compelling and informative long newsletter based on the stock report and price trend.\",\n",
    "  backstory = \"You're widely accepted as the best stock analyst in the market. You understand complex concepts and create compelling stories and narratives that resonate with wider audiences. You understand macro factors and combine multiple theories - eg. cycle theory, and fundamental analyses. You're able to hold a multiple opinions when analyzing anything\",\n",
    "  verbose = True,\n",
    "  llm = llm,\n",
    "  max_iter = 5,\n",
    "  memory = True,\n",
    "  allow_delegation = True,\n",
    ")"
   ]
  },
  {
   "cell_type": "code",
   "execution_count": 63,
   "metadata": {},
   "outputs": [],
   "source": [
    "getStockPrice = Task(\n",
    "  description = \"Analyze the stock {ticket} price history and create a trend analyzes of up, down or sideways\",\n",
    "  agent = stockPriceAnalyst,\n",
    "  expected_output = \"Specify the current trend stock price - up , down or sideways eg. stock='APPL, price UP' \",\n",
    ")\n",
    "\n",
    "getNews = Task(\n",
    "  description = f\"Take the stock and always include BTC to it or others trend criptos (if not request). Use the search tool to search one individually. The current date is {datetime.now()}. Compose the results into a helpful report\",\n",
    "  agent = newsAnalyst,\n",
    "  expected_output = \"A summary of the overall market and return a sentence for each request asset. Include a good/bad score asset based on the news. Use format: <STOCK ASSET> <SUMMARY NEWS> <TREND PREDICTION> <GOOD/BAD SCORE> \",\n",
    ")\n",
    "\n",
    "WriteAnalyses = Task(\n",
    "  description = \"Use the stock price trend and the stock news report to create an analyses and write the newsletter about the {ticket} company. A brief talk and highlight the most important points. focus on the stock price, news and good/bad score. what are the near future considerations? Also, include the previous analyzes of stock trend and news summary.\",\n",
    "  agent = stockAnalystWritter,\n",
    "  context = [ getStockPrice, getNews ],\n",
    "  expected_output = \"Return a newsletter formatted as markdown in an easy readable manner. It should contain: -3 bullets executive summary, -introduction (set the overall picture and spike up the interest), - main part (provides the meat of the analysis including the news, summary, and good/bad scores), - summary (key facts and concrete future trends prediction about, - up, down or sideways),   \",\n",
    ")"
   ]
  },
  {
   "cell_type": "code",
   "execution_count": 64,
   "metadata": {},
   "outputs": [
    {
     "name": "stderr",
     "output_type": "stream",
     "text": [
      "2024-08-21 00:54:16,568 - 14616 - __init__.py-__init__:531 - WARNING: Overriding of current TracerProvider is not allowed\n"
     ]
    }
   ],
   "source": [
    "crew = Crew(\n",
    "  agents = [ stockPriceAnalyst, newsAnalyst, stockAnalystWritter ],\n",
    "  tasks = [ getStockPrice, getNews, WriteAnalyses ],\n",
    "  verbose = True,\n",
    "  process = Process.hierarchical,\n",
    "  full_output = True,\n",
    "  share_crew = False,\n",
    "  manager_llm = llm,\n",
    "  max_iter = 15,\n",
    ")"
   ]
  },
  {
   "cell_type": "code",
   "execution_count": 65,
   "metadata": {},
   "outputs": [
    {
     "name": "stdout",
     "output_type": "stream",
     "text": [
      "\u001b[1m\u001b[95m [2024-08-21 00:54:16][DEBUG]: == Working Agent: Crew Manager\u001b[00m\n",
      "\u001b[1m\u001b[95m [2024-08-21 00:54:16][INFO]: == Starting Task: Analyze the stock AAPL price history and create a trend analyzes of up, down or sideways\u001b[00m\n",
      "\n",
      "\n",
      "\u001b[1m> Entering new CrewAgentExecutor chain...\u001b[0m\n",
      "\u001b[32;1m\u001b[1;3m\u001b[0m\n",
      "\n",
      "\u001b[1m> Finished chain.\u001b[0m\n",
      "\u001b[1m\u001b[92m [2024-08-21 00:55:40][DEBUG]: == [Crew Manager] Task output: Agent stopped due to iteration limit or time limit.\n",
      "\n",
      "\u001b[00m\n",
      "\u001b[1m\u001b[95m [2024-08-21 00:55:40][DEBUG]: == Working Agent: Crew Manager\u001b[00m\n",
      "\u001b[1m\u001b[95m [2024-08-21 00:55:40][INFO]: == Starting Task: Take the stock and always include BTC to it or others trend criptos (if not request). Use the search tool to search one individually. The current date is 2024-08-21 00:54:16.559075. Compose the results into a helpful report\u001b[00m\n",
      "\n",
      "\n",
      "\u001b[1m> Entering new CrewAgentExecutor chain...\u001b[0m\n",
      "\u001b[32;1m\u001b[1;3m\u001b[0m\n",
      "\n",
      "\u001b[1m> Finished chain.\u001b[0m\n",
      "\u001b[1m\u001b[92m [2024-08-21 00:57:03][DEBUG]: == [Crew Manager] Task output: Agent stopped due to iteration limit or time limit.\n",
      "\n",
      "\u001b[00m\n",
      "\u001b[1m\u001b[95m [2024-08-21 00:57:03][DEBUG]: == Working Agent: Crew Manager\u001b[00m\n",
      "\u001b[1m\u001b[95m [2024-08-21 00:57:03][INFO]: == Starting Task: Use the stock price trend and the stock news report to create an analyses and write the newsletter about the AAPL company. A brief talk and highlight the most important points. focus on the stock price, news and good/bad score. what are the near future considerations? Also, include the previous analyzes of stock trend and news summary.\u001b[00m\n",
      "\n",
      "\n",
      "\u001b[1m> Entering new CrewAgentExecutor chain...\u001b[0m\n",
      "\u001b[32;1m\u001b[1;3m\u001b[0m\n",
      "\n",
      "\u001b[1m> Finished chain.\u001b[0m\n",
      "\u001b[1m\u001b[92m [2024-08-21 00:58:27][DEBUG]: == [Crew Manager] Task output: Agent stopped due to iteration limit or time limit.\n",
      "\n",
      "\u001b[00m\n"
     ]
    }
   ],
   "source": [
    "results = crew.kickoff(inputs={'ticket': 'AAPL'})"
   ]
  }
 ],
 "metadata": {
  "kernelspec": {
   "display_name": "Python 3",
   "language": "python",
   "name": "python3"
  },
  "language_info": {
   "codemirror_mode": {
    "name": "ipython",
    "version": 3
   },
   "file_extension": ".py",
   "mimetype": "text/x-python",
   "name": "python",
   "nbconvert_exporter": "python",
   "pygments_lexer": "ipython3",
   "version": "3.12.2"
  }
 },
 "nbformat": 4,
 "nbformat_minor": 2
}
