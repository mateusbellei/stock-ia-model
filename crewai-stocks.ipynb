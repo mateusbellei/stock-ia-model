{
 "cells": [
  {
   "cell_type": "markdown",
   "metadata": {},
   "source": [
    "#LIB INSTALATION\n",
    "!pip install yfinance\n",
    "!pip install crewai\n",
    "!pip install 'crewai[tools]'\n",
    "!pip install langchain"
   ]
  },
  {
   "cell_type": "code",
   "execution_count": 6,
   "metadata": {},
   "outputs": [],
   "source": [
    "import json\n",
    "import os\n",
    "from datetime import datetime\n",
    "from crewai import Agent, Task\n",
    "from langchain.tools import Tool\n",
    "\n",
    "import yfinance as yf"
   ]
  },
  {
   "cell_type": "code",
   "execution_count": 7,
   "metadata": {},
   "outputs": [],
   "source": [
    "def fetch_stock_price(ticket):\n",
    "  stock = yf.download(ticket, start=\"2023-08-08\", end=\"2024-08-08\")\n",
    "  return stock\n",
    "\n",
    "yahoo_finance_tool = Tool(\n",
    "  name = \"Yahoo Finance Tool\",\n",
    "  description = \"Fetch Stock prices for {ticket} from the last year about a specific stock from API\",\n",
    "  func = lambda ticket: fetch_stock_price(ticket)\n",
    ")"
   ]
  },
  {
   "cell_type": "code",
   "execution_count": 8,
   "metadata": {},
   "outputs": [
    {
     "name": "stderr",
     "output_type": "stream",
     "text": [
      "[*********************100%%**********************]  1 of 1 completed\n"
     ]
    }
   ],
   "source": [
    "response = yahoo_finance_tool.run(\"AAPL\")"
   ]
  },
  {
   "cell_type": "code",
   "execution_count": 9,
   "metadata": {},
   "outputs": [
    {
     "name": "stdout",
     "output_type": "stream",
     "text": [
      "                  Open        High  ...   Adj Close     Volume\n",
      "Date                                ...                       \n",
      "2023-08-08  179.690002  180.270004  ...  178.643387   67823000\n",
      "2023-08-09  180.869995  180.929993  ...  177.043747   60378500\n",
      "2023-08-10  179.479996  180.750000  ...  176.825165   54686900\n",
      "2023-08-11  177.320007  178.619995  ...  176.884857   51988100\n",
      "2023-08-14  177.970001  179.690002  ...  178.546371   43675600\n",
      "...                ...         ...  ...         ...        ...\n",
      "2024-08-01  224.369995  224.479996  ...  218.107544   62501000\n",
      "2024-08-02  219.149994  225.600006  ...  219.605804  105568600\n",
      "2024-08-05  199.089996  213.500000  ...  209.028061  119548600\n",
      "2024-08-06  205.300003  209.990005  ...  206.990402   69660500\n",
      "2024-08-07  206.899994  213.639999  ...  209.577423   63516400\n",
      "\n",
      "[252 rows x 6 columns]\n"
     ]
    }
   ],
   "source": [
    "print(response)"
   ]
  }
 ],
 "metadata": {
  "kernelspec": {
   "display_name": "Python 3",
   "language": "python",
   "name": "python3"
  },
  "language_info": {
   "codemirror_mode": {
    "name": "ipython",
    "version": 3
   },
   "file_extension": ".py",
   "mimetype": "text/x-python",
   "name": "python",
   "nbconvert_exporter": "python",
   "pygments_lexer": "ipython3",
   "version": "3.12.2"
  }
 },
 "nbformat": 4,
 "nbformat_minor": 2
}
